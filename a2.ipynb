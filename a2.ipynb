{
  "nbformat": 4,
  "nbformat_minor": 0,
  "metadata": {
    "colab": {
      "name": "a2.ipynb",
      "provenance": [],
      "collapsed_sections": [],
      "authorship_tag": "ABX9TyMkxQxDafyw3jl17s9dBllF",
      "include_colab_link": true
    },
    "kernelspec": {
      "name": "python3",
      "display_name": "Python 3"
    },
    "language_info": {
      "name": "python"
    }
  },
  "cells": [
    {
      "cell_type": "markdown",
      "metadata": {
        "id": "view-in-github",
        "colab_type": "text"
      },
      "source": [
        "<a href=\"https://colab.research.google.com/github/seungyeonb/python_report/blob/main/a2.ipynb\" target=\"_parent\"><img src=\"https://colab.research.google.com/assets/colab-badge.svg\" alt=\"Open In Colab\"/></a>"
      ]
    },
    {
      "cell_type": "code",
      "execution_count": null,
      "metadata": {
        "id": "lX52_DMqxrm9"
      },
      "outputs": [],
      "source": [
        "total = 0\n",
        "counter = 1\n",
        "while counter <= 10:\n",
        "    grade = int(input (\"Enter grade: \"))\n",
        "    total=grade+total\n",
        "    counter=counter+1 \n",
        "average = total / 10\n",
        "print(average)"
      ]
    },
    {
      "cell_type": "code",
      "source": [
        "print(\"3개의 값을 입력하시오\")\n",
        "x=int(input(\"Enter the x: \"))\n",
        "y=int(input(\"Enter the y: \"))\n",
        "z=int(input(\"Enter the z: \"))\n",
        "x=x+1\n",
        "y=y+1\n",
        "z=z+1\n",
        "print(\"변경된 값:\",x,y,z)"
      ],
      "metadata": {
        "id": "5RKP1aZAyqV5"
      },
      "execution_count": null,
      "outputs": []
    },
    {
      "cell_type": "code",
      "source": [
        "a=10\n",
        "b=8750\n",
        "c=a*b\n",
        "print(c)"
      ],
      "metadata": {
        "id": "jpOndENoz27T"
      },
      "execution_count": null,
      "outputs": []
    },
    {
      "cell_type": "code",
      "source": [
        "pay_rate+8750\n",
        "hours_worked=int(input\"일을 한 전체 시간입력하세요!:\"))\n",
        "monthly_pay=hours_worked*pay_rate\n",
        "print(monthly_pay)"
      ],
      "metadata": {
        "id": "cyoYgzUfz935"
      },
      "execution_count": null,
      "outputs": []
    },
    {
      "cell_type": "code",
      "source": [
        "won=100000\n",
        "usd=won*1130\n",
        "print(usd)"
      ],
      "metadata": {
        "id": "kzoNtY5q0wyH"
      },
      "execution_count": null,
      "outputs": []
    },
    {
      "cell_type": "code",
      "source": [
        "exchange_rate=int(input(\"현재 환율입력:\"))\n",
        "won=100000\n",
        "usd=won*exchange_rate\n",
        "print(usd)"
      ],
      "metadata": {
        "id": "WkPiMi3H045N"
      },
      "execution_count": null,
      "outputs": []
    },
    {
      "cell_type": "code",
      "source": [
        "fahrenheit=100\n",
        "celsius=fahrenheit-32\n",
        "celsius=celsius*5\n",
        "celsius=celsius/9\n",
        "print(celsius)"
      ],
      "metadata": {
        "id": "njgfx9dD1WDp"
      },
      "execution_count": null,
      "outputs": []
    },
    {
      "cell_type": "code",
      "source": [
        "x=0\n",
        "y=0\n",
        "x=int(input(\"정수 x를 입력하시오:\"))\n",
        "y=int(input(\"정수 y를 입력하시오:\"))\n",
        "sum=x+y\n",
        "print(sum)"
      ],
      "metadata": {
        "id": "dF4rbv7g1vB7"
      },
      "execution_count": null,
      "outputs": []
    },
    {
      "cell_type": "code",
      "source": [
        "price=int(input(\"상품의 가격을 입력하시오: \"))\n",
        "vat=price*0.1\n",
        "print(vat)"
      ],
      "metadata": {
        "id": "D4Rq2PmU2G48"
      },
      "execution_count": null,
      "outputs": []
    },
    {
      "cell_type": "code",
      "source": [
        "age=int(input(\"현재 나이를 입력하시오: \"))\n",
        "age=age+10\n",
        "print(\"10년후면\",age, \"세가 되시는 군요\")"
      ],
      "metadata": {
        "id": "xEaooUPc2aEG"
      },
      "execution_count": null,
      "outputs": []
    },
    {
      "cell_type": "code",
      "source": [
        "print(\"########################\")\n",
        "print(\"# 배송료 계산 프로그램 #\")\n",
        "print(\"########################\")\n",
        "price= int(input(\"상품의 가격을 입력하세요: \"))\n",
        "if price > 2000:\n",
        "     shipping_cost = 0\n",
        "else:\n",
        "     shipping_cost = 3000\n",
        "print(shipping_cost)\n",
        "     "
      ],
      "metadata": {
        "id": "DQJIAr9hNw6-"
      },
      "execution_count": null,
      "outputs": []
    },
    {
      "cell_type": "code",
      "source": [
        "print(\"########################\")\n",
        "print(\"# 합격 불합격 프로그램 #\")\n",
        "print(\"########################\")\n",
        "\n",
        "\n",
        "grade = int(input(\"성적을 입력하시오: \"))\n",
        "if grade >= 60 :\n",
        "     print(\"합격\")\n",
        "else :\n",
        "     print(\"불합격\")          "
      ],
      "metadata": {
        "id": "zF9v_5QYO8v-"
      },
      "execution_count": null,
      "outputs": []
    },
    {
      "cell_type": "code",
      "source": [
        "print(\"근무 시간을 입력하시오\")\n",
        "work_hour=int(input(\"근무시간 입력:  \"))\n",
        "\n",
        "\n",
        "if work_hour > 72 :\n",
        "   print(\"초과근무 하셨습니다.\")\n",
        "else:\n",
        "     priint(\"정상근무하셨습니다.\")   "
      ],
      "metadata": {
        "id": "EnKRom9DSg2-"
      },
      "execution_count": null,
      "outputs": []
    },
    {
      "cell_type": "code",
      "source": [
        "print(\"########################\")\n",
        "print(\"# 짝수와 홀수 판별 앱 #\")\n",
        "print(\"########################\")\n",
        "\n",
        "\n",
        "x = int(input(\"x값 정수를 입력하시오: \")\n",
        "if (x % 2) !=  0 :\n",
        "     print(\"홀수입니다.\")\n",
        "else:\n",
        "     print(\"짝수입니다.\")     "
      ],
      "metadata": {
        "id": "aYMQl-M4TLfv"
      },
      "execution_count": null,
      "outputs": []
    },
    {
      "cell_type": "code",
      "source": [
        "print(\"정수를 입력하시오.\")\n",
        "x= int(input(\"정수값 x를 입력하시오.:  \"))\n",
        "y= int(input(\"정수값 y를 입력하시오.:  \"))\n",
        "if x > y :\n",
        "     print(x)\n",
        "else:\n",
        "     print(y)     "
      ],
      "metadata": {
        "id": "MpIJFOWJUKI_"
      },
      "execution_count": null,
      "outputs": []
    },
    {
      "cell_type": "code",
      "source": [
        "print(\"########################\")\n",
        "print(\"# 이름, 나이, 답변 앱  #\")\n",
        "print(\"########################\")\n",
        "\n",
        "\n",
        "yu_name = str(input(\"이름: \"))\n",
        "yu_age = int(input(\"나이: \"))\n",
        "\n",
        "\n",
        "if yu_age <= 25 :\n",
        "     print(\"와우!!! 프로그래밍을 완벽하게 배울수 있는 나이입니다.!\")\n",
        "else:\n",
        "     print(\"포기하기에는 아직 늦지 않았습니다.\")\n",
        "print(\"\\n\")          "
      ],
      "metadata": {
        "id": "pi7Pp88RVHXS"
      },
      "execution_count": null,
      "outputs": []
    },
    {
      "cell_type": "code",
      "source": [
        "price = int(inpur(\"상품의 가격을 입력하세요.: \"))\n",
        "\n",
        "\n",
        "if price > 100000:\n",
        "       shipping_cost = 0\n",
        "else:\n",
        "      if price > 2000:\n",
        "         shipping_cost = 3000\n",
        "      else:\n",
        "         shipping_cost = 5000\n",
        "\n",
        "\n",
        "print(\"배송료는\", shipping_cost, \"입니다.\")         "
      ],
      "metadata": {
        "id": "zp0IrxQXWz_I"
      },
      "execution_count": null,
      "outputs": []
    }
  ]
}